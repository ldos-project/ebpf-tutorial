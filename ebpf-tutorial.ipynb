{
 "cells": [
  {
   "cell_type": "markdown",
   "id": "c1b57555-c691-4174-9a44-eefbb8921469",
   "metadata": {},
   "source": [
    "# Ebpf Tutorial\n",
    "\n",
    "We are going to explore the following questions:\n",
    "1. Why do we care about ebpf?\n",
    "2. What is ebpf?\n",
    "3. How did it become what it is?\n",
    "4. Okay so now what?\n",
    "\n",
    "Before all of that I'll run you through a bit of setup."
   ]
  },
  {
   "cell_type": "markdown",
   "id": "6044172f-6991-429f-bb5b-6a0074cb806a",
   "metadata": {},
   "source": [
    "## Setup\n",
    "1. ssh into the shell machine `ssh -L <port-id>:127.0.0.1:<port-id> -i <private-key> <username>@<machine>`.\n",
    "2. Once in your own shell clone the ebpf-tutorial `git clone https://github.com/ldos-project/ebpf-tutorial.git`.\n",
    "3. Move into that directory `cd ebpf-tutorial`.\n",
    "4. Now run `pipenv install && pipenv shell`. This should use pipenv to install dependencies to control ebpf.\n",
    "5. Run this so jupyter can see the bpf compiler ``export JUPYTER_PATH=$(dirname `find /usr/lib -name bcc`):$PYTHONPATH``\n",
    "6. Finally let's open this notebook by running: `JUPYTER_PORT=<port-id> jupyter notebook`. You should be able to connect by using the URL that it provides in your browser."
   ]
  },
  {
   "cell_type": "markdown",
   "id": "0265944a-ee56-42b0-9cc7-12f76008dcf3",
   "metadata": {},
   "source": [
    "## Why do we care about ebpf?\n",
    "- Why do y'all think we care about this?\n",
    "- What have you heard?\n",
    "Let's use a running example of a program."
   ]
  },
  {
   "cell_type": "markdown",
   "id": "c197f640-9069-4206-815b-899e0bf78d67",
   "metadata": {},
   "source": [
    "### Simple example program\n",
    "We just cat out a file."
   ]
  },
  {
   "cell_type": "code",
   "execution_count": 1,
   "id": "33805508-32ec-495b-926b-e1328d1f5dab",
   "metadata": {},
   "outputs": [
    {
     "name": "stdout",
     "output_type": "stream",
     "text": [
      "sudo apt install pipenv -y\n",
      "sudo apt install bpftrace -y\n"
     ]
    }
   ],
   "source": [
    "import subprocess\n",
    "proc = subprocess.run([\"cat\", \"install_script.sh\"])"
   ]
  },
  {
   "cell_type": "markdown",
   "id": "e138bf9d-e762-4202-b804-8286fbd10c0e",
   "metadata": {},
   "source": [
    "Recall that in this project we are interested in exactly how all of these things are happening at the lowest levels.\n",
    "Using just userspace style tools here is the first tool I often try:"
   ]
  },
  {
   "cell_type": "code",
   "execution_count": 2,
   "id": "87994902-396b-4902-ba89-2670884219b6",
   "metadata": {},
   "outputs": [
    {
     "name": "stdout",
     "output_type": "stream",
     "text": [
      "sudo apt install pipenv -y\n",
      "sudo apt install bpftrace -y\n"
     ]
    },
    {
     "name": "stderr",
     "output_type": "stream",
     "text": [
      "execve(\"/usr/bin/cat\", [\"cat\", \"install_script.sh\"], 0x7ffd7d3a7998 /* 50 vars */) = 0\n",
      "brk(NULL)                               = 0x5615625d3000\n",
      "arch_prctl(0x3001 /* ARCH_??? */, 0x7fff435933d0) = -1 EINVAL (Invalid argument)\n",
      "mmap(NULL, 8192, PROT_READ|PROT_WRITE, MAP_PRIVATE|MAP_ANONYMOUS, -1, 0) = 0x7fafe09e3000\n",
      "access(\"/etc/ld.so.preload\", R_OK)      = -1 ENOENT (No such file or directory)\n",
      "openat(AT_FDCWD, \"/home/adityat/.local/lib/glibc-hwcaps/x86-64-v3/libc.so.6\", O_RDONLY|O_CLOEXEC) = -1 ENOENT (No such file or directory)\n",
      "newfstatat(AT_FDCWD, \"/home/adityat/.local/lib/glibc-hwcaps/x86-64-v3\", 0x7fff435925f0, 0) = -1 ENOENT (No such file or directory)\n",
      "openat(AT_FDCWD, \"/home/adityat/.local/lib/glibc-hwcaps/x86-64-v2/libc.so.6\", O_RDONLY|O_CLOEXEC) = -1 ENOENT (No such file or directory)\n",
      "newfstatat(AT_FDCWD, \"/home/adityat/.local/lib/glibc-hwcaps/x86-64-v2\", 0x7fff435925f0, 0) = -1 ENOENT (No such file or directory)\n",
      "openat(AT_FDCWD, \"/home/adityat/.local/lib/tls/haswell/x86_64/libc.so.6\", O_RDONLY|O_CLOEXEC) = -1 ENOENT (No such file or directory)\n",
      "newfstatat(AT_FDCWD, \"/home/adityat/.local/lib/tls/haswell/x86_64\", 0x7fff435925f0, 0) = -1 ENOENT (No such file or directory)\n",
      "openat(AT_FDCWD, \"/home/adityat/.local/lib/tls/haswell/libc.so.6\", O_RDONLY|O_CLOEXEC) = -1 ENOENT (No such file or directory)\n",
      "newfstatat(AT_FDCWD, \"/home/adityat/.local/lib/tls/haswell\", 0x7fff435925f0, 0) = -1 ENOENT (No such file or directory)\n",
      "openat(AT_FDCWD, \"/home/adityat/.local/lib/tls/x86_64/libc.so.6\", O_RDONLY|O_CLOEXEC) = -1 ENOENT (No such file or directory)\n",
      "newfstatat(AT_FDCWD, \"/home/adityat/.local/lib/tls/x86_64\", 0x7fff435925f0, 0) = -1 ENOENT (No such file or directory)\n",
      "openat(AT_FDCWD, \"/home/adityat/.local/lib/tls/libc.so.6\", O_RDONLY|O_CLOEXEC) = -1 ENOENT (No such file or directory)\n",
      "newfstatat(AT_FDCWD, \"/home/adityat/.local/lib/tls\", 0x7fff435925f0, 0) = -1 ENOENT (No such file or directory)\n",
      "openat(AT_FDCWD, \"/home/adityat/.local/lib/haswell/x86_64/libc.so.6\", O_RDONLY|O_CLOEXEC) = -1 ENOENT (No such file or directory)\n",
      "newfstatat(AT_FDCWD, \"/home/adityat/.local/lib/haswell/x86_64\", 0x7fff435925f0, 0) = -1 ENOENT (No such file or directory)\n",
      "openat(AT_FDCWD, \"/home/adityat/.local/lib/haswell/libc.so.6\", O_RDONLY|O_CLOEXEC) = -1 ENOENT (No such file or directory)\n",
      "newfstatat(AT_FDCWD, \"/home/adityat/.local/lib/haswell\", 0x7fff435925f0, 0) = -1 ENOENT (No such file or directory)\n",
      "openat(AT_FDCWD, \"/home/adityat/.local/lib/x86_64/libc.so.6\", O_RDONLY|O_CLOEXEC) = -1 ENOENT (No such file or directory)\n",
      "newfstatat(AT_FDCWD, \"/home/adityat/.local/lib/x86_64\", 0x7fff435925f0, 0) = -1 ENOENT (No such file or directory)\n",
      "openat(AT_FDCWD, \"/home/adityat/.local/lib/libc.so.6\", O_RDONLY|O_CLOEXEC) = -1 ENOENT (No such file or directory)\n",
      "newfstatat(AT_FDCWD, \"/home/adityat/.local/lib\", {st_mode=S_IFDIR|0700, st_size=4096, ...}, 0) = 0\n",
      "openat(AT_FDCWD, \"glibc-hwcaps/x86-64-v3/libc.so.6\", O_RDONLY|O_CLOEXEC) = -1 ENOENT (No such file or directory)\n",
      "openat(AT_FDCWD, \"glibc-hwcaps/x86-64-v2/libc.so.6\", O_RDONLY|O_CLOEXEC) = -1 ENOENT (No such file or directory)\n",
      "openat(AT_FDCWD, \"tls/haswell/x86_64/libc.so.6\", O_RDONLY|O_CLOEXEC) = -1 ENOENT (No such file or directory)\n",
      "openat(AT_FDCWD, \"tls/haswell/libc.so.6\", O_RDONLY|O_CLOEXEC) = -1 ENOENT (No such file or directory)\n",
      "openat(AT_FDCWD, \"tls/x86_64/libc.so.6\", O_RDONLY|O_CLOEXEC) = -1 ENOENT (No such file or directory)\n",
      "openat(AT_FDCWD, \"tls/libc.so.6\", O_RDONLY|O_CLOEXEC) = -1 ENOENT (No such file or directory)\n",
      "openat(AT_FDCWD, \"haswell/x86_64/libc.so.6\", O_RDONLY|O_CLOEXEC) = -1 ENOENT (No such file or directory)\n",
      "openat(AT_FDCWD, \"haswell/libc.so.6\", O_RDONLY|O_CLOEXEC) = -1 ENOENT (No such file or directory)\n",
      "openat(AT_FDCWD, \"x86_64/libc.so.6\", O_RDONLY|O_CLOEXEC) = -1 ENOENT (No such file or directory)\n",
      "openat(AT_FDCWD, \"libc.so.6\", O_RDONLY|O_CLOEXEC) = -1 ENOENT (No such file or directory)\n",
      "openat(AT_FDCWD, \"/etc/ld.so.cache\", O_RDONLY|O_CLOEXEC) = 3\n",
      "newfstatat(3, \"\", {st_mode=S_IFREG|0644, st_size=91191, ...}, AT_EMPTY_PATH) = 0\n",
      "mmap(NULL, 91191, PROT_READ, MAP_PRIVATE, 3, 0) = 0x7fafe09cc000\n",
      "close(3)                                = 0\n",
      "openat(AT_FDCWD, \"/lib/x86_64-linux-gnu/libc.so.6\", O_RDONLY|O_CLOEXEC) = 3\n",
      "read(3, \"\\177ELF\\2\\1\\1\\3\\0\\0\\0\\0\\0\\0\\0\\0\\3\\0>\\0\\1\\0\\0\\0P\\237\\2\\0\\0\\0\\0\\0\"..., 832) = 832\n",
      "pread64(3, \"\\6\\0\\0\\0\\4\\0\\0\\0@\\0\\0\\0\\0\\0\\0\\0@\\0\\0\\0\\0\\0\\0\\0@\\0\\0\\0\\0\\0\\0\\0\"..., 784, 64) = 784\n",
      "pread64(3, \"\\4\\0\\0\\0 \\0\\0\\0\\5\\0\\0\\0GNU\\0\\2\\0\\0\\300\\4\\0\\0\\0\\3\\0\\0\\0\\0\\0\\0\\0\"..., 48, 848) = 48\n",
      "pread64(3, \"\\4\\0\\0\\0\\24\\0\\0\\0\\3\\0\\0\\0GNU\\0\\315A\\vq\\17\\17\\tLh2\\355\\331Y1\\0m\"..., 68, 896) = 68\n",
      "newfstatat(3, \"\", {st_mode=S_IFREG|0755, st_size=2220400, ...}, AT_EMPTY_PATH) = 0\n",
      "pread64(3, \"\\6\\0\\0\\0\\4\\0\\0\\0@\\0\\0\\0\\0\\0\\0\\0@\\0\\0\\0\\0\\0\\0\\0@\\0\\0\\0\\0\\0\\0\\0\"..., 784, 64) = 784\n",
      "mmap(NULL, 2264656, PROT_READ, MAP_PRIVATE|MAP_DENYWRITE, 3, 0) = 0x7fafe07a3000\n",
      "mprotect(0x7fafe07cb000, 2023424, PROT_NONE) = 0\n",
      "mmap(0x7fafe07cb000, 1658880, PROT_READ|PROT_EXEC, MAP_PRIVATE|MAP_FIXED|MAP_DENYWRITE, 3, 0x28000) = 0x7fafe07cb000\n",
      "mmap(0x7fafe0960000, 360448, PROT_READ, MAP_PRIVATE|MAP_FIXED|MAP_DENYWRITE, 3, 0x1bd000) = 0x7fafe0960000\n",
      "mmap(0x7fafe09b9000, 24576, PROT_READ|PROT_WRITE, MAP_PRIVATE|MAP_FIXED|MAP_DENYWRITE, 3, 0x215000) = 0x7fafe09b9000\n",
      "mmap(0x7fafe09bf000, 52816, PROT_READ|PROT_WRITE, MAP_PRIVATE|MAP_FIXED|MAP_ANONYMOUS, -1, 0) = 0x7fafe09bf000\n",
      "close(3)                                = 0\n",
      "mmap(NULL, 12288, PROT_READ|PROT_WRITE, MAP_PRIVATE|MAP_ANONYMOUS, -1, 0) = 0x7fafe07a0000\n",
      "arch_prctl(ARCH_SET_FS, 0x7fafe07a0740) = 0\n",
      "set_tid_address(0x7fafe07a0a10)         = 3009369\n",
      "set_robust_list(0x7fafe07a0a20, 24)     = 0\n",
      "rseq(0x7fafe07a10e0, 0x20, 0, 0x53053053) = 0\n",
      "mprotect(0x7fafe09b9000, 16384, PROT_READ) = 0\n",
      "mprotect(0x561560dc1000, 4096, PROT_READ) = 0\n",
      "mprotect(0x7fafe0a1d000, 8192, PROT_READ) = 0\n",
      "prlimit64(0, RLIMIT_STACK, NULL, {rlim_cur=8192*1024, rlim_max=RLIM64_INFINITY}) = 0\n",
      "munmap(0x7fafe09cc000, 91191)           = 0\n",
      "getrandom(\"\\xf4\\xa2\\x9e\\x34\\x62\\xb1\\x7b\\xa3\", 8, GRND_NONBLOCK) = 8\n",
      "brk(NULL)                               = 0x5615625d3000\n",
      "brk(0x5615625f4000)                     = 0x5615625f4000\n",
      "openat(AT_FDCWD, \"/usr/lib/locale/locale-archive\", O_RDONLY|O_CLOEXEC) = 3\n",
      "newfstatat(3, \"\", {st_mode=S_IFREG|0644, st_size=3048928, ...}, AT_EMPTY_PATH) = 0\n",
      "mmap(NULL, 3048928, PROT_READ, MAP_PRIVATE, 3, 0) = 0x7fafe04b7000\n",
      "close(3)                                = 0\n",
      "newfstatat(1, \"\", {st_mode=S_IFIFO|0600, st_size=0, ...}, AT_EMPTY_PATH) = 0\n",
      "openat(AT_FDCWD, \"install_script.sh\", O_RDONLY) = 3\n",
      "newfstatat(3, \"\", {st_mode=S_IFREG|0755, st_size=56, ...}, AT_EMPTY_PATH) = 0\n",
      "fadvise64(3, 0, 0, POSIX_FADV_SEQUENTIAL) = 0\n",
      "mmap(NULL, 139264, PROT_READ|PROT_WRITE, MAP_PRIVATE|MAP_ANONYMOUS, -1, 0) = 0x7fafe0495000\n",
      "read(3, \"sudo apt install pipenv -y\\nsudo \"..., 131072) = 56\n",
      "write(1, \"sudo apt install pipenv -y\\nsudo \"..., 56) = 56\n",
      "read(3, \"\", 131072)                     = 0\n",
      "munmap(0x7fafe0495000, 139264)          = 0\n",
      "close(3)                                = 0\n",
      "close(1)                                = 0\n",
      "close(2)                                = 0\n",
      "exit_group(0)                           = ?\n",
      "+++ exited with 0 +++\n"
     ]
    }
   ],
   "source": [
    "import subprocess\n",
    "proc = subprocess.run([\"strace\", \"cat\", \"install_script.sh\"])"
   ]
  },
  {
   "cell_type": "markdown",
   "id": "3d829d59-76a2-4e00-98c4-302b7d14f45c",
   "metadata": {},
   "source": [
    "1. What insights can we gain from this data?\n",
    "1. What are the limitations of accepting data this way?\n",
    "2. Should we just throw this into an LLM?\n",
    "3. What data is missing?"
   ]
  },
  {
   "cell_type": "markdown",
   "id": "ead8b640-e3fa-4a75-b3f0-d7656ca5308d",
   "metadata": {},
   "source": [
    "### Example with ebpf\n",
    "We will now use ebpf to extract information about openat.\n",
    "There is a simple tool that uses it called `bpftrace` that I will show, this is a high level tool that uses ebpf under the hood.\n",
    "\n",
    "*Show bpftrace*\n",
    "\n",
    "I am far more partial to the real thing because it allows for *clean data*, with the least overhead."
   ]
  },
  {
   "cell_type": "code",
   "execution_count": 12,
   "id": "52ab5cf2-2ec0-49f1-9835-b47b285aa0e2",
   "metadata": {},
   "outputs": [
    {
     "name": "stdout",
     "output_type": "stream",
     "text": [
      "Overwriting capture_openat.py\n"
     ]
    }
   ],
   "source": [
    "%%writefile capture_openat.py\n",
    "from bcc import BPF\n",
    "bpf_txt = \"\"\"\n",
    "#include <linux/sched.h>\n",
    "BPF_PERF_OUTPUT(openat_output);\n",
    "BPF_HASH(openat_hash, u32, u64);\n",
    "\n",
    "typedef struct output_data {\n",
    "    u64 tgid;\n",
    "    u64 start_ns;\n",
    "    u64 end_ns;\n",
    "} output_data_t;\n",
    "\n",
    "int kprobe__do_openat(struct pt_regs* ctx, int dfd, const char __user *filename,\n",
    "\t\t\t   struct open_how *how) {\n",
    "    u32 tgid = bpf_get_current_pid_tgid() >> 32;\n",
    "    u64 ts = bpf_ktime_get_ns();\n",
    "    openat_hash.insert(&tgid, &ts);\n",
    "    return 0;\n",
    "}\n",
    "int kretprobe__do_openat(struct pt_regs* ctx) {\n",
    "    u64 end_ts = bpf_ktime_get_ns();\n",
    "\n",
    "    u32 tgid = bpf_get_current_pid_tgid() >> 32;\\\n",
    "    u64* start_ts = openat_hash.lookup(&tgid);\n",
    "    if(start_ts == NULL) return 0;\n",
    "    output_data_t data;\n",
    "    data.tgid = tgid;\n",
    "    data.start_ns = *start_ts;\n",
    "    data.end_ns = end_ts;\n",
    "    openat_hash.delete(&tgid);\n",
    "    return 0;\n",
    "}\n",
    "\"\"\"\n",
    "\n",
    "bpf = BPF(text = bpf_txt)\n",
    "bpf.attach_kprobe(event=b\"do_sys_openat2\", fn_name=\"kprobe__do_openat\")\n",
    "bpf.attach_kretprobe(event=b\"do_sys_openat2\", fn_name=\"kretprobe__do_openat\")\n",
    "\n",
    "def print_event(cpu, data, size):\n",
    "    output = bpf[\"openat_output\"].event(data)\n",
    "    print(f\"tgid:\\t{output.tgid}, elapsed:\\t{output.end_ns - output.start_ns}\")\n",
    "    \n",
    "bpf[\"openat_output\"].open_perf_buffer(print_event)\n",
    "\n",
    "while 1:\n",
    "    try:\n",
    "        bpf.perf_buffer_poll()\n",
    "    except KeyboardInterrupt:\n",
    "        print()\n",
    "        exit()"
   ]
  },
  {
   "cell_type": "code",
   "execution_count": 21,
   "id": "142ee3b0-1db3-43f7-a3a6-e4223ab95101",
   "metadata": {},
   "outputs": [
    {
     "name": "stderr",
     "output_type": "stream",
     "text": [
      "sudo: a terminal is required to read the password; either use the -S option to read from standard input or configure an askpass helper\n",
      "sudo: a password is required\n"
     ]
    },
    {
     "ename": "CalledProcessError",
     "evalue": "Command 'sudo python3 capture_openat.py' returned non-zero exit status 1.",
     "output_type": "error",
     "traceback": [
      "\u001b[0;31m---------------------------------------------------------------------------\u001b[0m",
      "\u001b[0;31mCalledProcessError\u001b[0m                        Traceback (most recent call last)",
      "Cell \u001b[0;32mIn[21], line 4\u001b[0m\n\u001b[1;32m      2\u001b[0m \u001b[38;5;28;01mimport\u001b[39;00m\u001b[38;5;250m \u001b[39m\u001b[38;5;21;01msignal\u001b[39;00m\n\u001b[1;32m      3\u001b[0m os\u001b[38;5;241m.\u001b[39menviron[\u001b[38;5;124m\"\u001b[39m\u001b[38;5;124mPYTHONPATH\u001b[39m\u001b[38;5;124m\"\u001b[39m] \u001b[38;5;241m=\u001b[39m \u001b[38;5;124m\"\u001b[39m\u001b[38;5;124m/usr/lib/python3/dist-packages\u001b[39m\u001b[38;5;124m\"\u001b[39m\n\u001b[0;32m----> 4\u001b[0m blah \u001b[38;5;241m=\u001b[39m \u001b[43msubprocess\u001b[49m\u001b[38;5;241;43m.\u001b[39;49m\u001b[43mcheck_output\u001b[49m\u001b[43m(\u001b[49m\u001b[38;5;124;43m\"\u001b[39;49m\u001b[38;5;124;43msudo python3 capture_openat.py\u001b[39;49m\u001b[38;5;124;43m\"\u001b[39;49m\u001b[43m,\u001b[49m\u001b[43m \u001b[49m\u001b[43mshell\u001b[49m\u001b[38;5;241;43m=\u001b[39;49m\u001b[38;5;28;43;01mTrue\u001b[39;49;00m\u001b[43m)\u001b[49m\n\u001b[1;32m      5\u001b[0m proc \u001b[38;5;241m=\u001b[39m subprocess\u001b[38;5;241m.\u001b[39mrun([\u001b[38;5;124m\"\u001b[39m\u001b[38;5;124mcat\u001b[39m\u001b[38;5;124m\"\u001b[39m, \u001b[38;5;124m\"\u001b[39m\u001b[38;5;124minstall_script.sh\u001b[39m\u001b[38;5;124m\"\u001b[39m])\n\u001b[1;32m      6\u001b[0m blah\u001b[38;5;241m.\u001b[39mkill(signal\u001b[38;5;241m.\u001b[39mSIGINT)\n",
      "File \u001b[0;32m/usr/lib/python3.10/subprocess.py:421\u001b[0m, in \u001b[0;36mcheck_output\u001b[0;34m(timeout, *popenargs, **kwargs)\u001b[0m\n\u001b[1;32m    418\u001b[0m         empty \u001b[38;5;241m=\u001b[39m \u001b[38;5;124mb\u001b[39m\u001b[38;5;124m'\u001b[39m\u001b[38;5;124m'\u001b[39m\n\u001b[1;32m    419\u001b[0m     kwargs[\u001b[38;5;124m'\u001b[39m\u001b[38;5;124minput\u001b[39m\u001b[38;5;124m'\u001b[39m] \u001b[38;5;241m=\u001b[39m empty\n\u001b[0;32m--> 421\u001b[0m \u001b[38;5;28;01mreturn\u001b[39;00m \u001b[43mrun\u001b[49m\u001b[43m(\u001b[49m\u001b[38;5;241;43m*\u001b[39;49m\u001b[43mpopenargs\u001b[49m\u001b[43m,\u001b[49m\u001b[43m \u001b[49m\u001b[43mstdout\u001b[49m\u001b[38;5;241;43m=\u001b[39;49m\u001b[43mPIPE\u001b[49m\u001b[43m,\u001b[49m\u001b[43m \u001b[49m\u001b[43mtimeout\u001b[49m\u001b[38;5;241;43m=\u001b[39;49m\u001b[43mtimeout\u001b[49m\u001b[43m,\u001b[49m\u001b[43m \u001b[49m\u001b[43mcheck\u001b[49m\u001b[38;5;241;43m=\u001b[39;49m\u001b[38;5;28;43;01mTrue\u001b[39;49;00m\u001b[43m,\u001b[49m\n\u001b[1;32m    422\u001b[0m \u001b[43m           \u001b[49m\u001b[38;5;241;43m*\u001b[39;49m\u001b[38;5;241;43m*\u001b[39;49m\u001b[43mkwargs\u001b[49m\u001b[43m)\u001b[49m\u001b[38;5;241m.\u001b[39mstdout\n",
      "File \u001b[0;32m/usr/lib/python3.10/subprocess.py:526\u001b[0m, in \u001b[0;36mrun\u001b[0;34m(input, capture_output, timeout, check, *popenargs, **kwargs)\u001b[0m\n\u001b[1;32m    524\u001b[0m     retcode \u001b[38;5;241m=\u001b[39m process\u001b[38;5;241m.\u001b[39mpoll()\n\u001b[1;32m    525\u001b[0m     \u001b[38;5;28;01mif\u001b[39;00m check \u001b[38;5;129;01mand\u001b[39;00m retcode:\n\u001b[0;32m--> 526\u001b[0m         \u001b[38;5;28;01mraise\u001b[39;00m CalledProcessError(retcode, process\u001b[38;5;241m.\u001b[39margs,\n\u001b[1;32m    527\u001b[0m                                  output\u001b[38;5;241m=\u001b[39mstdout, stderr\u001b[38;5;241m=\u001b[39mstderr)\n\u001b[1;32m    528\u001b[0m \u001b[38;5;28;01mreturn\u001b[39;00m CompletedProcess(process\u001b[38;5;241m.\u001b[39margs, retcode, stdout, stderr)\n",
      "\u001b[0;31mCalledProcessError\u001b[0m: Command 'sudo python3 capture_openat.py' returned non-zero exit status 1."
     ]
    }
   ],
   "source": [
    "import subprocess\n",
    "import signal\n",
    "os.environ[\"PYTHONPATH\"] = \"/usr/lib/python3/dist-packages\"\n",
    "blah = subprocess.check_output(\"sudo python3 capture_openat.py\", shell=True)\n",
    "proc = subprocess.run([\"cat\", \"install_script.sh\"])\n",
    "blah.kill(signal.SIGINT)\n",
    "print(blah)"
   ]
  },
  {
   "cell_type": "code",
   "execution_count": null,
   "id": "a95263ac-c82b-4eae-aeb8-be4a06bac92e",
   "metadata": {},
   "outputs": [],
   "source": []
  }
 ],
 "metadata": {
  "kernelspec": {
   "display_name": "Python 3 (ipykernel)",
   "language": "python",
   "name": "python3"
  },
  "language_info": {
   "codemirror_mode": {
    "name": "ipython",
    "version": 3
   },
   "file_extension": ".py",
   "mimetype": "text/x-python",
   "name": "python",
   "nbconvert_exporter": "python",
   "pygments_lexer": "ipython3",
   "version": "3.10.12"
  }
 },
 "nbformat": 4,
 "nbformat_minor": 5
}
