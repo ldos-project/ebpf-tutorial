{
 "cells": [
  {
   "cell_type": "markdown",
   "id": "c1b57555-c691-4174-9a44-eefbb8921469",
   "metadata": {},
   "source": [
    "# Ebpf Tutorial\n",
    "\n",
    "We are going to explore the following questions:\n",
    "1. Why do we care about ebpf?\n",
    "2. What is ebpf?\n",
    "3. How did it become what it is?\n",
    "4. Okay so now what?\n",
    "\n",
    "Before all of that I'll run you through a bit of setup."
   ]
  },
  {
   "cell_type": "markdown",
   "id": "6044172f-6991-429f-bb5b-6a0074cb806a",
   "metadata": {},
   "source": [
    "## Setup\n",
    "1. ssh into the shell machine `ssh -L <port-id>:127.0.0.1:<port-id> -i <private-key> <username>@<machine>`\n",
    "2. once in your own shell clone the ebpf-tutorial `git clone "
   ]
  },
  {
   "cell_type": "code",
   "execution_count": null,
   "id": "33805508-32ec-495b-926b-e1328d1f5dab",
   "metadata": {},
   "outputs": [],
   "source": []
  }
 ],
 "metadata": {
  "kernelspec": {
   "display_name": "Python 3 (ipykernel)",
   "language": "python",
   "name": "python3"
  },
  "language_info": {
   "codemirror_mode": {
    "name": "ipython",
    "version": 3
   },
   "file_extension": ".py",
   "mimetype": "text/x-python",
   "name": "python",
   "nbconvert_exporter": "python",
   "pygments_lexer": "ipython3",
   "version": "3.10.12"
  }
 },
 "nbformat": 4,
 "nbformat_minor": 5
}
